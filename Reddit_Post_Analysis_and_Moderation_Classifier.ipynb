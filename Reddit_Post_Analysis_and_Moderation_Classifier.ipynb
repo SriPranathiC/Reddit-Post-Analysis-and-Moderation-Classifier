{
  "nbformat": 4,
  "nbformat_minor": 0,
  "metadata": {
    "colab": {
      "provenance": [],
      "authorship_tag": "ABX9TyOaTd89buyz61UuRRHjxvcQ",
      "include_colab_link": true
    },
    "kernelspec": {
      "name": "python3",
      "display_name": "Python 3"
    },
    "language_info": {
      "name": "python"
    }
  },
  "cells": [
    {
      "cell_type": "markdown",
      "metadata": {
        "id": "view-in-github",
        "colab_type": "text"
      },
      "source": [
        "<a href=\"https://colab.research.google.com/github/SriPranathiC/Reddit-Post-Analysis-and-Moderation-Classifier/blob/main/Reddit_Post_Analysis_and_Moderation_Classifier.ipynb\" target=\"_parent\"><img src=\"https://colab.research.google.com/assets/colab-badge.svg\" alt=\"Open In Colab\"/></a>"
      ]
    },
    {
      "cell_type": "code",
      "execution_count": 1,
      "metadata": {
        "colab": {
          "base_uri": "https://localhost:8080/"
        },
        "id": "8S_Rc-pFeKw4",
        "outputId": "c9f2353c-3e2e-417b-eaf1-d984e458b0da"
      },
      "outputs": [
        {
          "output_type": "stream",
          "name": "stdout",
          "text": [
            "Hello World\n"
          ]
        }
      ],
      "source": [
        "print('Hello World')"
      ]
    },
    {
      "cell_type": "code",
      "source": [],
      "metadata": {
        "id": "u442f13MeSiy"
      },
      "execution_count": null,
      "outputs": []
    }
  ]
}